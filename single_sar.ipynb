{
 "cells": [
  {
   "cell_type": "markdown",
   "id": "20ee845e",
   "metadata": {},
   "source": [
    "In this file the single variable linear model is implmented. After loading the data, we design a cross-validation method which is used for time series data, with a rolling window of predictions. The model is a SARMA (2, 0)x(1, 0)24."
   ]
  },
  {
   "cell_type": "code",
   "execution_count": 1,
   "id": "d35bdf9b",
   "metadata": {},
   "outputs": [],
   "source": [
    "import datetime\n",
    "import matplotlib.pyplot as plt\n",
    "import numpy as np\n",
    "import pandas as pd\n",
    "from pandas import DataFrame\n",
    "from statsmodels.tsa.ar_model import AutoReg\n",
    "from sklearn.preprocessing import MinMaxScaler"
   ]
  },
  {
   "cell_type": "code",
   "execution_count": 2,
   "id": "d2b1c115-6642-4b68-a20f-79b4839631f8",
   "metadata": {},
   "outputs": [
    {
     "name": "stdout",
     "output_type": "stream",
     "text": [
      "/home/giorgos/Documents/for_edit/GERMANY_WITH_NAN.xlsx\n"
     ]
    }
   ],
   "source": [
    "import os\n",
    "path = os.path.join(os.path.expanduser('~'), 'Documents', 'for_edit', 'GERMANY_WITH_NAN.xlsx')\n",
    "print (path)"
   ]
  },
  {
   "cell_type": "code",
   "execution_count": 3,
   "id": "2abb5c6f",
   "metadata": {},
   "outputs": [
    {
     "data": {
      "text/html": [
       "<div>\n",
       "<style scoped>\n",
       "    .dataframe tbody tr th:only-of-type {\n",
       "        vertical-align: middle;\n",
       "    }\n",
       "\n",
       "    .dataframe tbody tr th {\n",
       "        vertical-align: top;\n",
       "    }\n",
       "\n",
       "    .dataframe thead th {\n",
       "        text-align: right;\n",
       "    }\n",
       "</style>\n",
       "<table border=\"1\" class=\"dataframe\">\n",
       "  <thead>\n",
       "    <tr style=\"text-align: right;\">\n",
       "      <th></th>\n",
       "      <th>Actual_Load</th>\n",
       "    </tr>\n",
       "    <tr>\n",
       "      <th>Date Time</th>\n",
       "      <th></th>\n",
       "    </tr>\n",
       "  </thead>\n",
       "  <tbody>\n",
       "    <tr>\n",
       "      <th>2012-10-01 01:00:00</th>\n",
       "      <td>39296.0</td>\n",
       "    </tr>\n",
       "    <tr>\n",
       "      <th>2012-10-01 02:00:00</th>\n",
       "      <td>39623.0</td>\n",
       "    </tr>\n",
       "    <tr>\n",
       "      <th>2012-10-01 03:00:00</th>\n",
       "      <td>41180.0</td>\n",
       "    </tr>\n",
       "    <tr>\n",
       "      <th>2012-10-01 04:00:00</th>\n",
       "      <td>44793.0</td>\n",
       "    </tr>\n",
       "    <tr>\n",
       "      <th>2012-10-01 05:00:00</th>\n",
       "      <td>53632.0</td>\n",
       "    </tr>\n",
       "    <tr>\n",
       "      <th>...</th>\n",
       "      <td>...</td>\n",
       "    </tr>\n",
       "    <tr>\n",
       "      <th>2015-02-02 13:00:00</th>\n",
       "      <td>68624.0</td>\n",
       "    </tr>\n",
       "    <tr>\n",
       "      <th>2015-02-02 14:00:00</th>\n",
       "      <td>67280.0</td>\n",
       "    </tr>\n",
       "    <tr>\n",
       "      <th>2015-02-02 15:00:00</th>\n",
       "      <td>66108.0</td>\n",
       "    </tr>\n",
       "    <tr>\n",
       "      <th>2015-02-02 16:00:00</th>\n",
       "      <td>64676.0</td>\n",
       "    </tr>\n",
       "    <tr>\n",
       "      <th>2015-02-02 17:00:00</th>\n",
       "      <td>67005.0</td>\n",
       "    </tr>\n",
       "  </tbody>\n",
       "</table>\n",
       "<p>20513 rows × 1 columns</p>\n",
       "</div>"
      ],
      "text/plain": [
       "                     Actual_Load\n",
       "Date Time                       \n",
       "2012-10-01 01:00:00      39296.0\n",
       "2012-10-01 02:00:00      39623.0\n",
       "2012-10-01 03:00:00      41180.0\n",
       "2012-10-01 04:00:00      44793.0\n",
       "2012-10-01 05:00:00      53632.0\n",
       "...                          ...\n",
       "2015-02-02 13:00:00      68624.0\n",
       "2015-02-02 14:00:00      67280.0\n",
       "2015-02-02 15:00:00      66108.0\n",
       "2015-02-02 16:00:00      64676.0\n",
       "2015-02-02 17:00:00      67005.0\n",
       "\n",
       "[20513 rows x 1 columns]"
      ]
     },
     "execution_count": 3,
     "metadata": {},
     "output_type": "execute_result"
    }
   ],
   "source": [
    "df = pd.read_excel(path)\n",
    "df = df.loc[:, ~df.columns.str.contains('^Unnamed')]\n",
    "df = df.set_index('Date Time')\n",
    "df.index = pd.to_datetime(df.index)\n",
    "df= df[['Actual_Load']]\n",
    "df"
   ]
  },
  {
   "cell_type": "code",
   "execution_count": 4,
   "id": "d7281add",
   "metadata": {},
   "outputs": [],
   "source": [
    "def evaluate_performance(predictions, actual):\n",
    "    errors = predictions - actual\n",
    "    mse = np.square(errors).mean()\n",
    "    rmse = np.sqrt(mse)\n",
    "    mae = np.abs(errors).mean()\n",
    "    mape = np.mean(np.abs(errors/actual))*100\n",
    "    return mse,rmse,mae,mape"
   ]
  },
  {
   "cell_type": "code",
   "execution_count": 5,
   "id": "ba753791",
   "metadata": {},
   "outputs": [
    {
     "data": {
      "text/plain": [
       "Actual_Load    64579.0\n",
       "Name: 2012-10-24 10:00:00, dtype: float64"
      ]
     },
     "execution_count": 5,
     "metadata": {},
     "output_type": "execute_result"
    }
   ],
   "source": [
    "#Make sure that the dataset is the correct one, without missing values in the x axis(time)\n",
    "#In timeseries data, missing values on the x axis could have asignificant impact on the quality of the predictions\n",
    "df= df.interpolate()\n",
    "df.loc['2012-10-24 10:00:00']"
   ]
  },
  {
   "cell_type": "markdown",
   "id": "c3e91e9a",
   "metadata": {},
   "source": [
    "For the correct evaluation of the predictions, the application of cross-validation is useful. The size of the training set must be fixed so that we do not favor subsequent checks with a larger training set. For this purpose, we move the training data window by one day. \n",
    "\n",
    "The training of the model and the predictions procedure is repeated for 494 days so as to use all the available data. This procedure is implemented as a form of cross-validation which is well-established for time series cases where cutting off pieces from the training set is prohibited."
   ]
  },
  {
   "cell_type": "code",
   "execution_count": 6,
   "id": "82a08670",
   "metadata": {},
   "outputs": [],
   "source": [
    "from sklearn.model_selection import TimeSeriesSplit\n",
    "splits=494\n",
    "horizon=24\n",
    "tss = TimeSeriesSplit(n_splits=splits,max_train_size=24*30*12, test_size=horizon)\n",
    "df = df.sort_index()"
   ]
  },
  {
   "cell_type": "code",
   "execution_count": 7,
   "id": "d6540c11",
   "metadata": {},
   "outputs": [],
   "source": [
    "# for train_idx, val_idx in tss.split(df):\n",
    "#     print(\"TRAIN:\", train_idx.shape, \"TEST:\", val_idx.shape)"
   ]
  },
  {
   "cell_type": "code",
   "execution_count": 8,
   "id": "bfb5213d",
   "metadata": {},
   "outputs": [],
   "source": [
    "fold = 0\n",
    "preds = []\n",
    "mse=[]\n",
    "rmse=[]\n",
    "mae=[]\n",
    "mape=[]\n",
    "WINDOW_SIZE = 25\n",
    "number_of_fold = 1\n",
    "hourly_errors = np.zeros(shape=(splits,horizon))\n",
    "fold_counter=0\n",
    "full_real = np.zeros(shape=(splits,horizon))\n",
    "\n",
    "for train_idx, val_idx in tss.split(df):\n",
    "    if number_of_fold<splits:\n",
    "        train = df.iloc[train_idx]\n",
    "        test = df.iloc[val_idx]\n",
    "        sc = MinMaxScaler()\n",
    "        train = sc.fit_transform(train)\n",
    "        test= sc.fit_transform(test)\n",
    "\n",
    "        model = AutoReg(train, lags=[1, 2, 24,25,26])\n",
    "        model_fit = model.fit()\n",
    "\n",
    "        data_predict = model_fit.predict(start=len(train), end=len(train)+len(test)-1, dynamic=True)\n",
    "        dataY_real=sc.inverse_transform(test)\n",
    "        predictions = sc.inverse_transform(data_predict.reshape(-1, 1)) \n",
    "        for i in range(24):\n",
    "            hourly_errors[fold_counter,i]=predictions[i]-dataY_real[i]\n",
    "            full_real[fold_counter,i] = dataY_real[i]\n",
    "\n",
    "\n",
    "        mse1,rmse1,mae1,mape1 = evaluate_performance(predictions, dataY_real)    \n",
    "        fold_counter=fold_counter+1\n",
    "        mse.append(mse1)\n",
    "        rmse.append(rmse1)\n",
    "        mae.append(mae1)\n",
    "        mape.append(mape1)\n",
    "        number_of_fold=number_of_fold+1\n",
    "\n",
    "scores=pd.DataFrame(list(zip(mse, rmse,mae,mape)),columns=['mse','rmse','mae','mape'])\n",
    "#scores"
   ]
  },
  {
   "cell_type": "markdown",
   "id": "ed69dd21",
   "metadata": {},
   "source": [
    "Aftewards we need to create the dataframes so as to store the results properly"
   ]
  },
  {
   "cell_type": "markdown",
   "id": "2ce13304-8387-4912-b42f-0ac25d8ae017",
   "metadata": {},
   "source": [
    "THe hourly evaluations will measure how well the model predicts for each hour ahead"
   ]
  },
  {
   "cell_type": "code",
   "execution_count": 9,
   "id": "f07426d3",
   "metadata": {},
   "outputs": [],
   "source": [
    "cols = ['1','2','3','4','5','6','7','8','9','10','11','12','13','14','15','16','17','18','19','20','21','22','23','24']\n",
    "hourly_evaluations= pd.DataFrame(hourly_errors,columns=cols)\n",
    "#hourly_evaluations"
   ]
  },
  {
   "cell_type": "code",
   "execution_count": 10,
   "id": "e58d94fb",
   "metadata": {},
   "outputs": [],
   "source": [
    "#This dataframe just holds the actual values\n",
    "cols = ['1','2','3','4','5','6','7','8','9','10','11','12','13','14','15','16','17','18','19','20','21','22','23','24']\n",
    "aa= pd.DataFrame(full_real,columns=cols)"
   ]
  },
  {
   "cell_type": "code",
   "execution_count": 11,
   "id": "488392f6",
   "metadata": {},
   "outputs": [
    {
     "data": {
      "text/html": [
       "<div>\n",
       "<style scoped>\n",
       "    .dataframe tbody tr th:only-of-type {\n",
       "        vertical-align: middle;\n",
       "    }\n",
       "\n",
       "    .dataframe tbody tr th {\n",
       "        vertical-align: top;\n",
       "    }\n",
       "\n",
       "    .dataframe thead th {\n",
       "        text-align: right;\n",
       "    }\n",
       "</style>\n",
       "<table border=\"1\" class=\"dataframe\">\n",
       "  <thead>\n",
       "    <tr style=\"text-align: right;\">\n",
       "      <th></th>\n",
       "      <th>mse</th>\n",
       "      <th>rmse</th>\n",
       "      <th>mae</th>\n",
       "      <th>mape</th>\n",
       "    </tr>\n",
       "  </thead>\n",
       "  <tbody>\n",
       "    <tr>\n",
       "      <th>0</th>\n",
       "      <td>1.588474e+07</td>\n",
       "      <td>3985.566334</td>\n",
       "      <td>3346.041695</td>\n",
       "      <td>5.942804</td>\n",
       "    </tr>\n",
       "    <tr>\n",
       "      <th>1</th>\n",
       "      <td>9.933074e+06</td>\n",
       "      <td>3151.677992</td>\n",
       "      <td>2547.026672</td>\n",
       "      <td>4.692797</td>\n",
       "    </tr>\n",
       "    <tr>\n",
       "      <th>2</th>\n",
       "      <td>6.312992e+06</td>\n",
       "      <td>2512.566747</td>\n",
       "      <td>1997.231965</td>\n",
       "      <td>3.846825</td>\n",
       "    </tr>\n",
       "    <tr>\n",
       "      <th>3</th>\n",
       "      <td>8.782555e+06</td>\n",
       "      <td>2963.537539</td>\n",
       "      <td>2562.434625</td>\n",
       "      <td>4.966701</td>\n",
       "    </tr>\n",
       "    <tr>\n",
       "      <th>4</th>\n",
       "      <td>1.604732e+07</td>\n",
       "      <td>4005.910251</td>\n",
       "      <td>3467.122782</td>\n",
       "      <td>7.025100</td>\n",
       "    </tr>\n",
       "    <tr>\n",
       "      <th>5</th>\n",
       "      <td>2.991838e+07</td>\n",
       "      <td>5469.769779</td>\n",
       "      <td>4815.639284</td>\n",
       "      <td>10.263694</td>\n",
       "    </tr>\n",
       "    <tr>\n",
       "      <th>6</th>\n",
       "      <td>4.334556e+07</td>\n",
       "      <td>6583.734283</td>\n",
       "      <td>6013.397407</td>\n",
       "      <td>13.415657</td>\n",
       "    </tr>\n",
       "    <tr>\n",
       "      <th>7</th>\n",
       "      <td>5.231999e+07</td>\n",
       "      <td>7233.255593</td>\n",
       "      <td>6769.919743</td>\n",
       "      <td>15.577362</td>\n",
       "    </tr>\n",
       "    <tr>\n",
       "      <th>8</th>\n",
       "      <td>5.505825e+07</td>\n",
       "      <td>7420.124706</td>\n",
       "      <td>7011.936844</td>\n",
       "      <td>16.302040</td>\n",
       "    </tr>\n",
       "    <tr>\n",
       "      <th>9</th>\n",
       "      <td>5.202946e+07</td>\n",
       "      <td>7213.145126</td>\n",
       "      <td>6832.297265</td>\n",
       "      <td>15.792051</td>\n",
       "    </tr>\n",
       "    <tr>\n",
       "      <th>10</th>\n",
       "      <td>4.252144e+07</td>\n",
       "      <td>6520.846871</td>\n",
       "      <td>6056.006875</td>\n",
       "      <td>13.640543</td>\n",
       "    </tr>\n",
       "    <tr>\n",
       "      <th>11</th>\n",
       "      <td>3.062615e+07</td>\n",
       "      <td>5534.090019</td>\n",
       "      <td>4788.840073</td>\n",
       "      <td>10.418884</td>\n",
       "    </tr>\n",
       "    <tr>\n",
       "      <th>12</th>\n",
       "      <td>2.889656e+07</td>\n",
       "      <td>5375.551869</td>\n",
       "      <td>4266.883932</td>\n",
       "      <td>8.771635</td>\n",
       "    </tr>\n",
       "    <tr>\n",
       "      <th>13</th>\n",
       "      <td>3.404823e+07</td>\n",
       "      <td>5835.086273</td>\n",
       "      <td>4457.992826</td>\n",
       "      <td>8.369890</td>\n",
       "    </tr>\n",
       "    <tr>\n",
       "      <th>14</th>\n",
       "      <td>3.111519e+07</td>\n",
       "      <td>5578.098807</td>\n",
       "      <td>4344.102351</td>\n",
       "      <td>7.703344</td>\n",
       "    </tr>\n",
       "    <tr>\n",
       "      <th>15</th>\n",
       "      <td>2.701852e+07</td>\n",
       "      <td>5197.933847</td>\n",
       "      <td>4122.424115</td>\n",
       "      <td>7.085970</td>\n",
       "    </tr>\n",
       "    <tr>\n",
       "      <th>16</th>\n",
       "      <td>2.805808e+07</td>\n",
       "      <td>5296.987600</td>\n",
       "      <td>4328.440213</td>\n",
       "      <td>7.269199</td>\n",
       "    </tr>\n",
       "    <tr>\n",
       "      <th>17</th>\n",
       "      <td>2.627278e+07</td>\n",
       "      <td>5125.697897</td>\n",
       "      <td>4244.752882</td>\n",
       "      <td>7.097615</td>\n",
       "    </tr>\n",
       "    <tr>\n",
       "      <th>18</th>\n",
       "      <td>2.415197e+07</td>\n",
       "      <td>4914.465683</td>\n",
       "      <td>4008.543819</td>\n",
       "      <td>6.746469</td>\n",
       "    </tr>\n",
       "    <tr>\n",
       "      <th>19</th>\n",
       "      <td>2.181003e+07</td>\n",
       "      <td>4670.120967</td>\n",
       "      <td>3766.880709</td>\n",
       "      <td>6.457740</td>\n",
       "    </tr>\n",
       "    <tr>\n",
       "      <th>20</th>\n",
       "      <td>1.984971e+07</td>\n",
       "      <td>4455.301819</td>\n",
       "      <td>3547.431374</td>\n",
       "      <td>6.238869</td>\n",
       "    </tr>\n",
       "    <tr>\n",
       "      <th>21</th>\n",
       "      <td>1.718946e+07</td>\n",
       "      <td>4146.017073</td>\n",
       "      <td>3315.193506</td>\n",
       "      <td>5.942485</td>\n",
       "    </tr>\n",
       "    <tr>\n",
       "      <th>22</th>\n",
       "      <td>1.596206e+07</td>\n",
       "      <td>3995.254370</td>\n",
       "      <td>3247.532835</td>\n",
       "      <td>5.772310</td>\n",
       "    </tr>\n",
       "    <tr>\n",
       "      <th>23</th>\n",
       "      <td>2.061087e+07</td>\n",
       "      <td>4539.919621</td>\n",
       "      <td>3803.295282</td>\n",
       "      <td>6.498536</td>\n",
       "    </tr>\n",
       "  </tbody>\n",
       "</table>\n",
       "</div>"
      ],
      "text/plain": [
       "             mse         rmse          mae       mape\n",
       "0   1.588474e+07  3985.566334  3346.041695   5.942804\n",
       "1   9.933074e+06  3151.677992  2547.026672   4.692797\n",
       "2   6.312992e+06  2512.566747  1997.231965   3.846825\n",
       "3   8.782555e+06  2963.537539  2562.434625   4.966701\n",
       "4   1.604732e+07  4005.910251  3467.122782   7.025100\n",
       "5   2.991838e+07  5469.769779  4815.639284  10.263694\n",
       "6   4.334556e+07  6583.734283  6013.397407  13.415657\n",
       "7   5.231999e+07  7233.255593  6769.919743  15.577362\n",
       "8   5.505825e+07  7420.124706  7011.936844  16.302040\n",
       "9   5.202946e+07  7213.145126  6832.297265  15.792051\n",
       "10  4.252144e+07  6520.846871  6056.006875  13.640543\n",
       "11  3.062615e+07  5534.090019  4788.840073  10.418884\n",
       "12  2.889656e+07  5375.551869  4266.883932   8.771635\n",
       "13  3.404823e+07  5835.086273  4457.992826   8.369890\n",
       "14  3.111519e+07  5578.098807  4344.102351   7.703344\n",
       "15  2.701852e+07  5197.933847  4122.424115   7.085970\n",
       "16  2.805808e+07  5296.987600  4328.440213   7.269199\n",
       "17  2.627278e+07  5125.697897  4244.752882   7.097615\n",
       "18  2.415197e+07  4914.465683  4008.543819   6.746469\n",
       "19  2.181003e+07  4670.120967  3766.880709   6.457740\n",
       "20  1.984971e+07  4455.301819  3547.431374   6.238869\n",
       "21  1.718946e+07  4146.017073  3315.193506   5.942485\n",
       "22  1.596206e+07  3995.254370  3247.532835   5.772310\n",
       "23  2.061087e+07  4539.919621  3803.295282   6.498536"
      ]
     },
     "execution_count": 11,
     "metadata": {},
     "output_type": "execute_result"
    }
   ],
   "source": [
    "mse=[]\n",
    "rmse=[]\n",
    "mae=[]\n",
    "mape=[]\n",
    "her = np.zeros(shape=(splits,4))\n",
    "for i in range(horizon):\n",
    "    temp = hourly_errors[0:splits-1,i]\n",
    "    mse1 = np.square(temp).mean()\n",
    "    rmse1 = np.sqrt(mse1)\n",
    "    mae1 = np.abs(temp).mean()\n",
    "    mape1 = np.mean(np.abs(temp/full_real[0:splits-1,i]))*100\n",
    "    mse.append(mse1)\n",
    "    rmse.append(rmse1)\n",
    "    mae.append(mae1)\n",
    "    mape.append(mape1)\n",
    "    \n",
    "hourly_scores=pd.DataFrame(list(zip(mse, rmse,mae,mape)),columns=['mse','rmse','mae','mape'])\n",
    "hourly_scores"
   ]
  },
  {
   "cell_type": "markdown",
   "id": "2a3bc25d",
   "metadata": {},
   "source": [
    "Finally we print out some plots"
   ]
  },
  {
   "cell_type": "markdown",
   "id": "b7a1f7ab-e1da-4ea7-a41f-86897fd2859f",
   "metadata": {},
   "source": [
    "The hourly errors will allows us to examine how good the predictions are for each hour ahead. From the chart below, we can see that the model fails to produce accurate predictions. "
   ]
  },
  {
   "cell_type": "code",
   "execution_count": 12,
   "id": "1f9b5562",
   "metadata": {},
   "outputs": [
    {
     "data": {
      "text/plain": [
       "Text(0, 0.5, 'MAPE')"
      ]
     },
     "execution_count": 12,
     "metadata": {},
     "output_type": "execute_result"
    },
    {
     "data": {
      "image/png": "[encoded data removed]",
      "text/plain": [
       "<Figure size 640x480 with 1 Axes>"
      ]
     },
     "metadata": {},
     "output_type": "display_data"
    }
   ],
   "source": [
    "ax = hourly_scores['mape'].plot(title='MAPE for each hour')\n",
    "ax.set_xlabel(\"Hour\")\n",
    "ax.set_ylabel(\"MAPE\")"
   ]
  },
  {
   "cell_type": "code",
   "execution_count": 13,
   "id": "32bb0819",
   "metadata": {},
   "outputs": [
    {
     "data": {
      "image/png": "[encoded data removed]",
      "text/plain": [
       "<Figure size 1000x500 with 1 Axes>"
      ]
     },
     "metadata": {},
     "output_type": "display_data"
    }
   ],
   "source": [
    "data = sc.inverse_transform(train) \n",
    "plt.figure(figsize=(10,5))\n",
    "prognose = np.concatenate((data[-50:],predictions))\n",
    "real = np.concatenate((data[-50:],dataY_real))\n",
    "plt.plot(range(1,len(prognose)+1), prognose, 'r',label='Predicted')\n",
    "plt.plot(range(1,len(real)+1), real, 'g',label='Actual')\n",
    "plt.plot(range(1,len(data[-50:])+1), data[-50:], 'b')\n",
    "plt.title('SAR Predictions')\n",
    "plt.legend()\n",
    "plt.show()"
   ]
  },
  {
   "cell_type": "code",
   "execution_count": 14,
   "id": "0123e413",
   "metadata": {},
   "outputs": [
    {
     "name": "stdout",
     "output_type": "stream",
     "text": [
      "8.576604950470404\n"
     ]
    }
   ],
   "source": [
    "scores2 = scores[\"mape\"].mean()\n",
    "print(scores2)"
   ]
  },
  {
   "cell_type": "markdown",
   "id": "8bdd0ec3",
   "metadata": {},
   "source": [
    "Save the results to new files"
   ]
  },
  {
   "cell_type": "code",
   "execution_count": 15,
   "id": "64af831a",
   "metadata": {},
   "outputs": [],
   "source": [
    "# scores.to_excel('SINGLE_SAR_SCORES_GER.xlsx', sheet_name='AR_SCORES_GER')\n",
    "# hourly_scores.to_excel('SINGLE_SAR_HOURLY_SCORES_GER.xlsx', sheet_name='AR_HOURLY_SCORES_GER')\n",
    "# hourly_evaluations.to_excel('SINGLE_SAR_HOURLY_ERRORS_GER.xlsx', sheet_name='AR_HOURLY_ERRORS_GER')\n",
    "# aa.to_excel('SINGLE_SAR_HOURLY_REAL_GER.xlsx', sheet_name='AR_HOURLY_REAL_GER')"
   ]
  }
 ],
 "metadata": {
  "kernelspec": {
   "display_name": "Python 3 (ipykernel)",
   "language": "python",
   "name": "python3"
  },
  "language_info": {
   "codemirror_mode": {
    "name": "ipython",
    "version": 3
   },
   "file_extension": ".py",
   "mimetype": "text/x-python",
   "name": "python",
   "nbconvert_exporter": "python",
   "pygments_lexer": "ipython3",
   "version": "3.11.5"
  }
 },
 "nbformat": 4,
 "nbformat_minor": 5
}
