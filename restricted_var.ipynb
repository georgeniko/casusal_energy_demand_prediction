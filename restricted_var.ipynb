{
 "cells": [
  {
   "cell_type": "markdown",
   "id": "f911bd38",
   "metadata": {},
   "source": [
    "This is the implementation of the multivariate linear model with only the selected variables according to the direct granger index. \n",
    "\n",
    "The training and validation process is the same as univariate process. Hourly forecasts for a day ahead are implemented for the total one-year training. The training set is then moved ahead by one day and the process is repeated for all available data.\n"
   ]
  },
  {
   "cell_type": "code",
   "execution_count": 1,
   "id": "e80d3cd0",
   "metadata": {
    "scrolled": true
   },
   "outputs": [],
   "source": [
    "import datetime\n",
    "import matplotlib.pyplot as plt\n",
    "import numpy as np\n",
    "import pandas as pd\n",
    "from pandas import DataFrame\n",
    "from statsmodels.tsa.vector_ar.var_model import VAR,VARResults\n",
    "from sklearn.preprocessing import MinMaxScaler"
   ]
  },
  {
   "cell_type": "code",
   "execution_count": 2,
   "id": "e1abb28b-2fce-4b98-be0e-1b897771bc75",
   "metadata": {},
   "outputs": [
    {
     "name": "stdout",
     "output_type": "stream",
     "text": [
      "/home/giorgos/Documents/for_edit/GERMANY_WITH_NAN.xlsx\n"
     ]
    }
   ],
   "source": [
    "import os\n",
    "path = os.path.join(os.path.expanduser('~'), 'Documents', 'for_edit', 'GERMANY_WITH_NAN.xlsx')\n",
    "print (path)"
   ]
  },
  {
   "cell_type": "code",
   "execution_count": 3,
   "id": "06808534",
   "metadata": {},
   "outputs": [],
   "source": [
    "def evaluate_performance(predictions, actual):\n",
    "    errors = predictions - actual\n",
    "    mse = np.square(errors).mean()\n",
    "    rmse = np.sqrt(mse)\n",
    "    mae = np.abs(errors).mean()\n",
    "    mape = np.mean(np.abs(errors/actual))*100\n",
    "    return mse,rmse,mae,mape"
   ]
  },
  {
   "cell_type": "markdown",
   "id": "9dc5cb4e",
   "metadata": {},
   "source": [
    "The variables selected based on the direct causality index, in addition to consumption, are the following: \n",
    "Tdew (degC) , rh (%) , max. wv (m/s) and holiday."
   ]
  },
  {
   "cell_type": "code",
   "execution_count": 4,
   "id": "0fdd3554",
   "metadata": {},
   "outputs": [
    {
     "data": {
      "text/html": [
       "<div>\n",
       "<style scoped>\n",
       "    .dataframe tbody tr th:only-of-type {\n",
       "        vertical-align: middle;\n",
       "    }\n",
       "\n",
       "    .dataframe tbody tr th {\n",
       "        vertical-align: top;\n",
       "    }\n",
       "\n",
       "    .dataframe thead th {\n",
       "        text-align: right;\n",
       "    }\n",
       "</style>\n",
       "<table border=\"1\" class=\"dataframe\">\n",
       "  <thead>\n",
       "    <tr style=\"text-align: right;\">\n",
       "      <th></th>\n",
       "      <th>Actual_Load</th>\n",
       "      <th>Tdew (degC)</th>\n",
       "      <th>rh (%)</th>\n",
       "      <th>max. wv (m/s)</th>\n",
       "      <th>holiday</th>\n",
       "    </tr>\n",
       "    <tr>\n",
       "      <th>Date Time</th>\n",
       "      <th></th>\n",
       "      <th></th>\n",
       "      <th></th>\n",
       "      <th></th>\n",
       "      <th></th>\n",
       "    </tr>\n",
       "  </thead>\n",
       "  <tbody>\n",
       "    <tr>\n",
       "      <th>2012-10-01 01:00:00</th>\n",
       "      <td>39296.0</td>\n",
       "      <td>3.91</td>\n",
       "      <td>87.30</td>\n",
       "      <td>6.13</td>\n",
       "      <td>0.0</td>\n",
       "    </tr>\n",
       "    <tr>\n",
       "      <th>2012-10-01 02:00:00</th>\n",
       "      <td>39623.0</td>\n",
       "      <td>3.94</td>\n",
       "      <td>86.30</td>\n",
       "      <td>6.29</td>\n",
       "      <td>0.0</td>\n",
       "    </tr>\n",
       "    <tr>\n",
       "      <th>2012-10-01 03:00:00</th>\n",
       "      <td>41180.0</td>\n",
       "      <td>3.93</td>\n",
       "      <td>90.30</td>\n",
       "      <td>5.81</td>\n",
       "      <td>0.0</td>\n",
       "    </tr>\n",
       "    <tr>\n",
       "      <th>2012-10-01 04:00:00</th>\n",
       "      <td>44793.0</td>\n",
       "      <td>2.40</td>\n",
       "      <td>85.90</td>\n",
       "      <td>3.76</td>\n",
       "      <td>0.0</td>\n",
       "    </tr>\n",
       "    <tr>\n",
       "      <th>2012-10-01 05:00:00</th>\n",
       "      <td>53632.0</td>\n",
       "      <td>1.57</td>\n",
       "      <td>81.60</td>\n",
       "      <td>3.68</td>\n",
       "      <td>0.0</td>\n",
       "    </tr>\n",
       "    <tr>\n",
       "      <th>...</th>\n",
       "      <td>...</td>\n",
       "      <td>...</td>\n",
       "      <td>...</td>\n",
       "      <td>...</td>\n",
       "      <td>...</td>\n",
       "    </tr>\n",
       "    <tr>\n",
       "      <th>2015-02-02 13:00:00</th>\n",
       "      <td>68624.0</td>\n",
       "      <td>-3.15</td>\n",
       "      <td>63.96</td>\n",
       "      <td>5.25</td>\n",
       "      <td>0.0</td>\n",
       "    </tr>\n",
       "    <tr>\n",
       "      <th>2015-02-02 14:00:00</th>\n",
       "      <td>67280.0</td>\n",
       "      <td>-2.98</td>\n",
       "      <td>65.56</td>\n",
       "      <td>6.21</td>\n",
       "      <td>0.0</td>\n",
       "    </tr>\n",
       "    <tr>\n",
       "      <th>2015-02-02 15:00:00</th>\n",
       "      <td>66108.0</td>\n",
       "      <td>-2.78</td>\n",
       "      <td>65.91</td>\n",
       "      <td>2.80</td>\n",
       "      <td>0.0</td>\n",
       "    </tr>\n",
       "    <tr>\n",
       "      <th>2015-02-02 16:00:00</th>\n",
       "      <td>64676.0</td>\n",
       "      <td>-2.78</td>\n",
       "      <td>68.56</td>\n",
       "      <td>1.88</td>\n",
       "      <td>0.0</td>\n",
       "    </tr>\n",
       "    <tr>\n",
       "      <th>2015-02-02 17:00:00</th>\n",
       "      <td>67005.0</td>\n",
       "      <td>-2.25</td>\n",
       "      <td>80.10</td>\n",
       "      <td>6.41</td>\n",
       "      <td>0.0</td>\n",
       "    </tr>\n",
       "  </tbody>\n",
       "</table>\n",
       "<p>20513 rows × 5 columns</p>\n",
       "</div>"
      ],
      "text/plain": [
       "                     Actual_Load  Tdew (degC)  rh (%)  max. wv (m/s)  holiday\n",
       "Date Time                                                                    \n",
       "2012-10-01 01:00:00      39296.0         3.91   87.30           6.13      0.0\n",
       "2012-10-01 02:00:00      39623.0         3.94   86.30           6.29      0.0\n",
       "2012-10-01 03:00:00      41180.0         3.93   90.30           5.81      0.0\n",
       "2012-10-01 04:00:00      44793.0         2.40   85.90           3.76      0.0\n",
       "2012-10-01 05:00:00      53632.0         1.57   81.60           3.68      0.0\n",
       "...                          ...          ...     ...            ...      ...\n",
       "2015-02-02 13:00:00      68624.0        -3.15   63.96           5.25      0.0\n",
       "2015-02-02 14:00:00      67280.0        -2.98   65.56           6.21      0.0\n",
       "2015-02-02 15:00:00      66108.0        -2.78   65.91           2.80      0.0\n",
       "2015-02-02 16:00:00      64676.0        -2.78   68.56           1.88      0.0\n",
       "2015-02-02 17:00:00      67005.0        -2.25   80.10           6.41      0.0\n",
       "\n",
       "[20513 rows x 5 columns]"
      ]
     },
     "execution_count": 4,
     "metadata": {},
     "output_type": "execute_result"
    }
   ],
   "source": [
    "df = pd.read_excel(path)\n",
    "df = df.loc[:, ~df.columns.str.contains('^Unnamed')]\n",
    "df = df.set_index('Date Time')\n",
    "df.index = pd.to_datetime(df.index)\n",
    "first_column = df.pop('Actual_Load')\n",
    "df.insert(0, 'Actual_Load', first_column)\n",
    "df.drop(['p (mbar)'], axis=1,inplace=True)\n",
    "df.drop(['Tpot (K)'], axis=1, inplace=True)\n",
    "df.drop(['VPmax (mbar)'], axis=1, inplace=True)\n",
    "df.drop(['VPact (mbar)'], axis=1, inplace=True)\n",
    "df.drop(['VPdef (mbar)'], axis=1, inplace=True)\n",
    "df.drop(['H2OC (mmol/mol)'], axis=1, inplace=True)\n",
    "df.drop(['rho (g/m**3)'], axis=1, inplace=True)\n",
    "df.drop(['sh (g/kg)'], axis=1, inplace=True)\n",
    "df.drop(['T (degC)'], axis=1, inplace=True)\n",
    "#df.drop(['max. wv (m/s)'], axis=1, inplace=True)\n",
    "df.drop(['wv (m/s)'], axis=1, inplace=True)\n",
    "df.drop(['wd (deg)'], axis=1, inplace=True)\n",
    "df"
   ]
  },
  {
   "cell_type": "markdown",
   "id": "b18f373f-defb-411c-b5d7-ef359487e7c0",
   "metadata": {},
   "source": [
    "Make sure that the dataset is the correct one, without missing values in the x axis(time)\n",
    "In timeseries data, missing values on the x axis could have asignificant impact on the quality of the predictions"
   ]
  },
  {
   "cell_type": "code",
   "execution_count": 5,
   "id": "a6c79bad",
   "metadata": {},
   "outputs": [
    {
     "data": {
      "text/plain": [
       "Actual_Load      64579.000\n",
       "Tdew (degC)          6.965\n",
       "rh (%)              96.900\n",
       "max. wv (m/s)        1.490\n",
       "holiday              0.000\n",
       "Name: 2012-10-24 10:00:00, dtype: float64"
      ]
     },
     "execution_count": 5,
     "metadata": {},
     "output_type": "execute_result"
    }
   ],
   "source": [
    "df = df.sort_index()\n",
    "df= df.interpolate()\n",
    "df.loc['2012-10-24 10:00:00']"
   ]
  },
  {
   "cell_type": "markdown",
   "id": "77ab7cc4",
   "metadata": {},
   "source": [
    "For the correct evaluation of the predictions, the application of cross-validation is useful. The size of the training set must be fixed so that we do not favor subsequent checks with a larger training set. For this purpose, we move the training data window by one day.\n",
    "\n",
    "The training of the model and the predictions procedure is repeated for 494 days so as to use all the available data. This procedure is implemented as a form of cross-validation which is well-established for time series cases where cutting off pieces from the training set is prohibited.\n"
   ]
  },
  {
   "cell_type": "code",
   "execution_count": 6,
   "id": "f7695fd5",
   "metadata": {},
   "outputs": [],
   "source": [
    "from sklearn.model_selection import TimeSeriesSplit\n",
    "splits=494\n",
    "horizon=24\n",
    "tss = TimeSeriesSplit(n_splits=splits,max_train_size=24*30*12, test_size=horizon)\n",
    "df = df.sort_index()"
   ]
  },
  {
   "cell_type": "code",
   "execution_count": 7,
   "id": "802f75e0",
   "metadata": {},
   "outputs": [],
   "source": [
    "fold = 0\n",
    "preds = []\n",
    "mse=[]\n",
    "rmse=[]\n",
    "mae=[]\n",
    "mape=[]\n",
    "\n",
    "WINDOW_SIZE = 25\n",
    "number_of_fold = 1\n",
    "hourly_errors = np.zeros(shape=(splits,horizon))\n",
    "fold_counter=0\n",
    "full_real = np.zeros(shape=(splits,horizon))\n",
    "\n",
    "for train_idx, val_idx in tss.split(df):\n",
    "    if number_of_fold<splits:\n",
    "        train = df.iloc[train_idx]\n",
    "        test = df.iloc[val_idx]\n",
    "\n",
    "\n",
    "        sc = MinMaxScaler()\n",
    "        train = sc.fit_transform(train)\n",
    "        test= sc.fit_transform(test)\n",
    "\n",
    "        model = VAR(endog=train)\n",
    "        model_fit = model.fit(26)\n",
    "        parameters = model_fit.params         \n",
    "        \n",
    "        lagged_Values=train[-26:]\n",
    "        y_pred = model_fit.forecast(y=lagged_Values, steps=horizon)\n",
    "        predictions = sc.inverse_transform(y_pred)\n",
    "        \n",
    "        dataY_real=sc.inverse_transform(test)\n",
    "        mse1,rmse1,mae1,mape1 = evaluate_performance(predictions[:,0], dataY_real[:,0])\n",
    "        for i in range(horizon):\n",
    "            hourly_errors[fold_counter,i]=predictions[i,0]-dataY_real[i,0]\n",
    "            full_real[fold_counter,i] = dataY_real[i,0] \n",
    "\n",
    "        mse.append(mse1)\n",
    "        rmse.append(rmse1)\n",
    "        mae.append(mae1)\n",
    "        mape.append(mape1)\n",
    "        number_of_fold=number_of_fold+1\n",
    "        fold_counter=fold_counter+1\n",
    "\n",
    "scores=pd.DataFrame(list(zip(mse, rmse,mae,mape)),columns=['mse','rmse','mae','mape'])\n",
    "#scores"
   ]
  },
  {
   "cell_type": "markdown",
   "id": "6c1890a4-6080-4ef7-9375-21e2c6d6bf46",
   "metadata": {},
   "source": [
    "Aftewards we need to create the dataframes so as to store the results properly.\n",
    "The hourly evaluations will measure how well the model predicts for each hour ahead."
   ]
  },
  {
   "cell_type": "code",
   "execution_count": 8,
   "id": "b03a9a6f",
   "metadata": {},
   "outputs": [],
   "source": [
    "cols = ['1','2','3','4','5','6','7','8','9','10','11','12','13','14','15','16','17','18','19','20','21','22','23','24']\n",
    "hourly_evaluations= pd.DataFrame(hourly_errors,columns=cols)\n",
    "#hourly_evaluations"
   ]
  },
  {
   "cell_type": "code",
   "execution_count": 9,
   "id": "90711e8f",
   "metadata": {},
   "outputs": [],
   "source": [
    "#This dataframe just holds the actual values\n",
    "cols = ['1','2','3','4','5','6','7','8','9','10','11','12','13','14','15','16','17','18','19','20','21','22','23','24']\n",
    "aa= pd.DataFrame(full_real,columns=cols)"
   ]
  },
  {
   "cell_type": "code",
   "execution_count": 10,
   "id": "00bbfd44",
   "metadata": {},
   "outputs": [
    {
     "data": {
      "text/html": [
       "<div>\n",
       "<style scoped>\n",
       "    .dataframe tbody tr th:only-of-type {\n",
       "        vertical-align: middle;\n",
       "    }\n",
       "\n",
       "    .dataframe tbody tr th {\n",
       "        vertical-align: top;\n",
       "    }\n",
       "\n",
       "    .dataframe thead th {\n",
       "        text-align: right;\n",
       "    }\n",
       "</style>\n",
       "<table border=\"1\" class=\"dataframe\">\n",
       "  <thead>\n",
       "    <tr style=\"text-align: right;\">\n",
       "      <th></th>\n",
       "      <th>mse</th>\n",
       "      <th>rmse</th>\n",
       "      <th>mae</th>\n",
       "      <th>mape</th>\n",
       "    </tr>\n",
       "  </thead>\n",
       "  <tbody>\n",
       "    <tr>\n",
       "      <th>0</th>\n",
       "      <td>1.588297e+07</td>\n",
       "      <td>3985.344928</td>\n",
       "      <td>3328.070680</td>\n",
       "      <td>5.916273</td>\n",
       "    </tr>\n",
       "    <tr>\n",
       "      <th>1</th>\n",
       "      <td>1.028282e+07</td>\n",
       "      <td>3206.683303</td>\n",
       "      <td>2586.866278</td>\n",
       "      <td>4.762925</td>\n",
       "    </tr>\n",
       "    <tr>\n",
       "      <th>2</th>\n",
       "      <td>6.409087e+06</td>\n",
       "      <td>2531.617431</td>\n",
       "      <td>1984.148755</td>\n",
       "      <td>3.827586</td>\n",
       "    </tr>\n",
       "    <tr>\n",
       "      <th>3</th>\n",
       "      <td>7.877881e+06</td>\n",
       "      <td>2806.756359</td>\n",
       "      <td>2364.779926</td>\n",
       "      <td>4.600012</td>\n",
       "    </tr>\n",
       "    <tr>\n",
       "      <th>4</th>\n",
       "      <td>1.264504e+07</td>\n",
       "      <td>3555.986255</td>\n",
       "      <td>3072.635839</td>\n",
       "      <td>6.227007</td>\n",
       "    </tr>\n",
       "    <tr>\n",
       "      <th>5</th>\n",
       "      <td>2.364226e+07</td>\n",
       "      <td>4862.330557</td>\n",
       "      <td>4247.721047</td>\n",
       "      <td>9.025050</td>\n",
       "    </tr>\n",
       "    <tr>\n",
       "      <th>6</th>\n",
       "      <td>3.437116e+07</td>\n",
       "      <td>5862.692599</td>\n",
       "      <td>5295.732745</td>\n",
       "      <td>11.767751</td>\n",
       "    </tr>\n",
       "    <tr>\n",
       "      <th>7</th>\n",
       "      <td>4.228594e+07</td>\n",
       "      <td>6502.764355</td>\n",
       "      <td>6019.098670</td>\n",
       "      <td>13.799111</td>\n",
       "    </tr>\n",
       "    <tr>\n",
       "      <th>8</th>\n",
       "      <td>4.575908e+07</td>\n",
       "      <td>6764.545785</td>\n",
       "      <td>6314.693747</td>\n",
       "      <td>14.623687</td>\n",
       "    </tr>\n",
       "    <tr>\n",
       "      <th>9</th>\n",
       "      <td>4.424618e+07</td>\n",
       "      <td>6651.780098</td>\n",
       "      <td>6213.029217</td>\n",
       "      <td>14.310767</td>\n",
       "    </tr>\n",
       "    <tr>\n",
       "      <th>10</th>\n",
       "      <td>3.763921e+07</td>\n",
       "      <td>6135.080436</td>\n",
       "      <td>5614.256783</td>\n",
       "      <td>12.628300</td>\n",
       "    </tr>\n",
       "    <tr>\n",
       "      <th>11</th>\n",
       "      <td>2.977034e+07</td>\n",
       "      <td>5456.219923</td>\n",
       "      <td>4661.668056</td>\n",
       "      <td>10.147935</td>\n",
       "    </tr>\n",
       "    <tr>\n",
       "      <th>12</th>\n",
       "      <td>2.937978e+07</td>\n",
       "      <td>5420.311711</td>\n",
       "      <td>4335.695682</td>\n",
       "      <td>8.899625</td>\n",
       "    </tr>\n",
       "    <tr>\n",
       "      <th>13</th>\n",
       "      <td>3.416534e+07</td>\n",
       "      <td>5845.112516</td>\n",
       "      <td>4557.722146</td>\n",
       "      <td>8.567711</td>\n",
       "    </tr>\n",
       "    <tr>\n",
       "      <th>14</th>\n",
       "      <td>3.139860e+07</td>\n",
       "      <td>5603.445627</td>\n",
       "      <td>4522.505355</td>\n",
       "      <td>8.028628</td>\n",
       "    </tr>\n",
       "    <tr>\n",
       "      <th>15</th>\n",
       "      <td>2.810398e+07</td>\n",
       "      <td>5301.318257</td>\n",
       "      <td>4328.315583</td>\n",
       "      <td>7.432988</td>\n",
       "    </tr>\n",
       "    <tr>\n",
       "      <th>16</th>\n",
       "      <td>3.011760e+07</td>\n",
       "      <td>5487.950857</td>\n",
       "      <td>4590.023799</td>\n",
       "      <td>7.699323</td>\n",
       "    </tr>\n",
       "    <tr>\n",
       "      <th>17</th>\n",
       "      <td>2.860313e+07</td>\n",
       "      <td>5348.189847</td>\n",
       "      <td>4532.332216</td>\n",
       "      <td>7.573408</td>\n",
       "    </tr>\n",
       "    <tr>\n",
       "      <th>18</th>\n",
       "      <td>2.603712e+07</td>\n",
       "      <td>5102.658313</td>\n",
       "      <td>4252.006714</td>\n",
       "      <td>7.155344</td>\n",
       "    </tr>\n",
       "    <tr>\n",
       "      <th>19</th>\n",
       "      <td>2.278291e+07</td>\n",
       "      <td>4773.144663</td>\n",
       "      <td>3898.755217</td>\n",
       "      <td>6.683872</td>\n",
       "    </tr>\n",
       "    <tr>\n",
       "      <th>20</th>\n",
       "      <td>1.994888e+07</td>\n",
       "      <td>4466.417101</td>\n",
       "      <td>3592.285189</td>\n",
       "      <td>6.330829</td>\n",
       "    </tr>\n",
       "    <tr>\n",
       "      <th>21</th>\n",
       "      <td>1.678268e+07</td>\n",
       "      <td>4096.666918</td>\n",
       "      <td>3285.256631</td>\n",
       "      <td>5.917163</td>\n",
       "    </tr>\n",
       "    <tr>\n",
       "      <th>22</th>\n",
       "      <td>1.481301e+07</td>\n",
       "      <td>3848.767583</td>\n",
       "      <td>3133.505249</td>\n",
       "      <td>5.606807</td>\n",
       "    </tr>\n",
       "    <tr>\n",
       "      <th>23</th>\n",
       "      <td>1.789397e+07</td>\n",
       "      <td>4230.126581</td>\n",
       "      <td>3547.262768</td>\n",
       "      <td>6.096893</td>\n",
       "    </tr>\n",
       "  </tbody>\n",
       "</table>\n",
       "</div>"
      ],
      "text/plain": [
       "             mse         rmse          mae       mape\n",
       "0   1.588297e+07  3985.344928  3328.070680   5.916273\n",
       "1   1.028282e+07  3206.683303  2586.866278   4.762925\n",
       "2   6.409087e+06  2531.617431  1984.148755   3.827586\n",
       "3   7.877881e+06  2806.756359  2364.779926   4.600012\n",
       "4   1.264504e+07  3555.986255  3072.635839   6.227007\n",
       "5   2.364226e+07  4862.330557  4247.721047   9.025050\n",
       "6   3.437116e+07  5862.692599  5295.732745  11.767751\n",
       "7   4.228594e+07  6502.764355  6019.098670  13.799111\n",
       "8   4.575908e+07  6764.545785  6314.693747  14.623687\n",
       "9   4.424618e+07  6651.780098  6213.029217  14.310767\n",
       "10  3.763921e+07  6135.080436  5614.256783  12.628300\n",
       "11  2.977034e+07  5456.219923  4661.668056  10.147935\n",
       "12  2.937978e+07  5420.311711  4335.695682   8.899625\n",
       "13  3.416534e+07  5845.112516  4557.722146   8.567711\n",
       "14  3.139860e+07  5603.445627  4522.505355   8.028628\n",
       "15  2.810398e+07  5301.318257  4328.315583   7.432988\n",
       "16  3.011760e+07  5487.950857  4590.023799   7.699323\n",
       "17  2.860313e+07  5348.189847  4532.332216   7.573408\n",
       "18  2.603712e+07  5102.658313  4252.006714   7.155344\n",
       "19  2.278291e+07  4773.144663  3898.755217   6.683872\n",
       "20  1.994888e+07  4466.417101  3592.285189   6.330829\n",
       "21  1.678268e+07  4096.666918  3285.256631   5.917163\n",
       "22  1.481301e+07  3848.767583  3133.505249   5.606807\n",
       "23  1.789397e+07  4230.126581  3547.262768   6.096893"
      ]
     },
     "execution_count": 10,
     "metadata": {},
     "output_type": "execute_result"
    }
   ],
   "source": [
    "mse=[]\n",
    "rmse=[]\n",
    "mae=[]\n",
    "mape=[]\n",
    "her = np.zeros(shape=(splits,4))\n",
    "for i in range(horizon):\n",
    "    temp = hourly_errors[0:splits-1,i]\n",
    "    mse1 = np.square(temp).mean()\n",
    "    rmse1 = np.sqrt(mse1)\n",
    "    mae1 = np.abs(temp).mean()\n",
    "    mape1 = np.mean(np.abs(temp/full_real[0:splits-1,i]))*100\n",
    "    mse.append(mse1)\n",
    "    rmse.append(rmse1)\n",
    "    mae.append(mae1)\n",
    "    mape.append(mape1)\n",
    "    \n",
    "hourly_scores=pd.DataFrame(list(zip(mse, rmse,mae,mape)),columns=['mse','rmse','mae','mape'])\n",
    "hourly_scores"
   ]
  },
  {
   "cell_type": "markdown",
   "id": "4de352ab-f937-4d9c-9834-35da3d550850",
   "metadata": {},
   "source": [
    "Finally we print out some plots"
   ]
  },
  {
   "cell_type": "markdown",
   "id": "9d97b750-3cbb-45b9-890f-0a37dc4b6653",
   "metadata": {},
   "source": [
    "The hourly errors will allows us to examine how good the predictions are for each hour ahead. From the chart below, we can see that the model fails to produce accurate predictions. "
   ]
  },
  {
   "cell_type": "code",
   "execution_count": 11,
   "id": "596b5e0b",
   "metadata": {},
   "outputs": [
    {
     "data": {
      "text/plain": [
       "Text(0, 0.5, 'MAPE')"
      ]
     },
     "execution_count": 11,
     "metadata": {},
     "output_type": "execute_result"
    },
    {
     "data": {
      "image/png": "[encoded data removed]",
      "text/plain": [
       "<Figure size 640x480 with 1 Axes>"
      ]
     },
     "metadata": {},
     "output_type": "display_data"
    }
   ],
   "source": [
    "ax = hourly_scores['mape'].plot(title='MAPE for each hour')\n",
    "ax.set_xlabel(\"Hour\")\n",
    "ax.set_ylabel(\"MAPE\")"
   ]
  },
  {
   "cell_type": "code",
   "execution_count": 12,
   "id": "31814977",
   "metadata": {
    "scrolled": true
   },
   "outputs": [
    {
     "data": {
      "image/png": "[encoded data removed]",
      "text/plain": [
       "<Figure size 1000x500 with 1 Axes>"
      ]
     },
     "metadata": {},
     "output_type": "display_data"
    }
   ],
   "source": [
    "data = sc.inverse_transform(train) \n",
    "plt.figure(figsize=(10,5))\n",
    "prognose = np.concatenate((data[-50:,0],predictions[:,0]))\n",
    "real = np.concatenate((data[-50:,0],dataY_real[:,0]))\n",
    "plt.plot(range(1,len(prognose)+1), prognose, 'r',label='Predicted')\n",
    "plt.plot(range(1,len(real)+1), real, 'g',label='Actual')\n",
    "plt.plot(range(1,len(data[-50:,0])+1), data[-50:,0], 'b')\n",
    "plt.title('VAR Predictions')\n",
    "plt.legend()\n",
    "plt.show()"
   ]
  },
  {
   "cell_type": "code",
   "execution_count": 13,
   "id": "56af632f",
   "metadata": {},
   "outputs": [
    {
     "name": "stdout",
     "output_type": "stream",
     "text": [
      "8.234541400343762\n"
     ]
    }
   ],
   "source": [
    "scores2 = scores[\"mape\"].mean()\n",
    "print(scores2)"
   ]
  },
  {
   "cell_type": "code",
   "execution_count": 14,
   "id": "196ea572",
   "metadata": {},
   "outputs": [],
   "source": [
    "# scores.to_excel('RESTRICTED_VAR_SCORES_GER.xlsx', sheet_name='VAR_SCORES_GER')\n",
    "# hourly_scores.to_excel('RESTRICTED_VAR_HOURLY_SCORES_GER.xlsx', sheet_name='RESTRICTED_VAR_HOURLY_SCORES_GER')\n",
    "# hourly_evaluations.to_excel('RESTRICTED_VAR_HOURLY_ERRORS_GER.xlsx', sheet_name='RESTRICTED_VAR_HOURLY_ERRORS_GER')\n",
    "# aa.to_excel('RESTRICTED_VAR_HOURLY_REAL_GER.xlsx', sheet_name='RESTRICTED_VAR_HOURLY_REAL_GER')"
   ]
  }
 ],
 "metadata": {
  "kernelspec": {
   "display_name": "Python 3 (ipykernel)",
   "language": "python",
   "name": "python3"
  },
  "language_info": {
   "codemirror_mode": {
    "name": "ipython",
    "version": 3
   },
   "file_extension": ".py",
   "mimetype": "text/x-python",
   "name": "python",
   "nbconvert_exporter": "python",
   "pygments_lexer": "ipython3",
   "version": "3.11.5"
  }
 },
 "nbformat": 4,
 "nbformat_minor": 5
}
